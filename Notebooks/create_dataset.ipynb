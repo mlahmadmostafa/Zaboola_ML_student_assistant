{
 "cells": [
  {
   "cell_type": "code",
   "execution_count": 66,
   "metadata": {},
   "outputs": [],
   "source": [
    "import time\n",
    "from dotenv import load_dotenv\n",
    "import os\n",
    "import google.generativeai as genai\n",
    "import json\n",
    "from IPython.display import clear_output\n",
    "\n",
    "load_dotenv()  # loads variables from .env\n",
    "\n",
    "API_KEY = os.getenv('GEMINI_API_KEY')\n",
    "genai.configure(api_key=API_KEY)\n"
   ]
  },
  {
   "cell_type": "code",
   "execution_count": 64,
   "metadata": {},
   "outputs": [],
   "source": [
    "import pickle\n",
    "with open('../Dataset/dataset.pkl', 'rb') as f:\n",
    "    df = pickle.load(f)"
   ]
  },
  {
   "cell_type": "code",
   "execution_count": 67,
   "metadata": {},
   "outputs": [
    {
     "data": {
      "text/html": [
       "<div>\n",
       "<style scoped>\n",
       "    .dataframe tbody tr th:only-of-type {\n",
       "        vertical-align: middle;\n",
       "    }\n",
       "\n",
       "    .dataframe tbody tr th {\n",
       "        vertical-align: top;\n",
       "    }\n",
       "\n",
       "    .dataframe thead th {\n",
       "        text-align: right;\n",
       "    }\n",
       "</style>\n",
       "<table border=\"1\" class=\"dataframe\">\n",
       "  <thead>\n",
       "    <tr style=\"text-align: right;\">\n",
       "      <th></th>\n",
       "      <th>pdfs</th>\n",
       "      <th>text</th>\n",
       "      <th>Q_A</th>\n",
       "    </tr>\n",
       "  </thead>\n",
       "  <tbody>\n",
       "    <tr>\n",
       "      <th>0</th>\n",
       "      <td>../Dataset/Not_garb\\andrew-ng-machine-learning...</td>\n",
       "      <td>Draft Version MACHINE LEARNING Technical Strat...</td>\n",
       "      <td>None</td>\n",
       "    </tr>\n",
       "    <tr>\n",
       "      <th>1</th>\n",
       "      <td>../Dataset/Not_garb\\andrew-ng-machine-learning...</td>\n",
       "      <td>37 How to decide whether to use all your data ...</td>\n",
       "      <td>None</td>\n",
       "    </tr>\n",
       "  </tbody>\n",
       "</table>\n",
       "</div>"
      ],
      "text/plain": [
       "                                                pdfs  \\\n",
       "0  ../Dataset/Not_garb\\andrew-ng-machine-learning...   \n",
       "1  ../Dataset/Not_garb\\andrew-ng-machine-learning...   \n",
       "\n",
       "                                                text   Q_A  \n",
       "0  Draft Version MACHINE LEARNING Technical Strat...  None  \n",
       "1  37 How to decide whether to use all your data ...  None  "
      ]
     },
     "execution_count": 67,
     "metadata": {},
     "output_type": "execute_result"
    }
   ],
   "source": [
    "df[\"Q_A\"] = None\n",
    "df.head(2)"
   ]
  },
  {
   "cell_type": "code",
   "execution_count": 70,
   "metadata": {},
   "outputs": [
    {
     "name": "stdout",
     "output_type": "stream",
     "text": [
      "Progress: 146/146\n"
     ]
    }
   ],
   "source": [
    "import re\n",
    "def clean_json_string(json_string):\n",
    "    text = json_string.strip().removeprefix('```json\\n').removesuffix('\\n```')\n",
    "    text = re.sub(r'\\r?\\n', ' ', text)  # Replace actual newlines\n",
    "    return text\n",
    "\n",
    "def is_json(text):\n",
    "    try:\n",
    "        parsed = json.loads(clean_json_string(text))\n",
    "        return True, parsed\n",
    "    except json.JSONDecodeError:\n",
    "        return False, None\n",
    "    \n",
    "def gemini_request_with_retry(model, contents=None, ): # Added model_name as arg for flexibility\n",
    "    max_attempts = 2  # 1 retry\n",
    "    for i in range(max_attempts):\n",
    "        # Use the client object that is configured globally (or passed in)\n",
    "        response = model.generate_content(contents)\n",
    "        if is_json(response.text)[0]:\n",
    "            return is_json(response.text)[1]\n",
    "    return None\n",
    "    time.sleep(1)\n",
    "\n",
    "\n",
    "# Usage example\n",
    "\n",
    "\n",
    "prompt = \"\"\"You will create a dataset of multiple question-answer pairs from the given data.\n",
    "Only use subject of the data as the topic of the question. These questions and answers will be used as a dataset to train a machine learning instructor chatbot.\n",
    "\n",
    "Please respond ONLY with a JSON array of objects, each with two fields:\n",
    "[\n",
    "  {\n",
    "    \"Q\": \"Question text\",\n",
    "    \"A\": \"Answer text\"\n",
    "  },\n",
    "  ...\n",
    "]\n",
    "No extra text or explanations — just the JSON array.\"\"\"\n",
    "\n",
    "for i in range(len(df[\"text\"])):\n",
    "    text = df[\"text\"][i]\n",
    "\n",
    "    # Combined the prompt and data into a single user message (this is correct now)\n",
    "    contents_for_generation = [\n",
    "        {\n",
    "            \"role\": \"user\",\n",
    "            \"parts\": [\n",
    "                {\"text\": prompt + \" \\n\" + \"Here is the data: \" + text}\n",
    "            ]\n",
    "        }\n",
    "    ]\n",
    "    model = genai.GenerativeModel(\"gemini-2.0-flash\")\n",
    "    response_text = gemini_request_with_retry(model, contents=contents_for_generation)\n",
    "\n",
    "    if response_text is not None:\n",
    "        df.at[i, \"Q_A\"] = response_text\n",
    "    else:\n",
    "        model = genai.GenerativeModel(\"gemini-2.5-flash-preview-05-20\")\n",
    "        df.at[i, \"Q_A\"] = gemini_request_with_retry(model, contents=contents_for_generation)\n",
    "    print(f\"Progress: {i+1}/{len(df['text'])}\")\n",
    "    clear_output(wait=True)\n",
    "df.to_csv(\"../Dataset/dataset.csv\", index=False)"
   ]
  },
  {
   "cell_type": "code",
   "execution_count": 74,
   "metadata": {},
   "outputs": [
    {
     "data": {
      "text/plain": [
       "[{'Q': 'What is the goal of this machine learning technical strategy guide?',\n",
       "  'A': 'To help you or your team work on a machine learning application and make rapid progress.'},\n",
       " {'Q': \"What does the guide assume about the reader's machine learning experience?\",\n",
       "  'A': 'It assumes the reader has taken a machine learning course or has experience applying supervised learning.'},\n",
       " {'Q': 'What are two major drivers of recent machine learning progress?',\n",
       "  'A': 'Data availability and computational scale.'},\n",
       " {'Q': 'What is the purpose of dev and test sets in machine learning?',\n",
       "  'A': 'To direct your team toward the most important changes to make to the machine learning system.'},\n",
       " {'Q': 'How should you choose dev and test sets?',\n",
       "  'A': 'Choose dev and test sets to reflect data you expect to get in the future and want to do well on.'},\n",
       " {'Q': 'What should you do if your team develops a system that works well on the dev set but not the test set, and the sets have different distributions?',\n",
       "  'A': 'Several things could have gone wrong: you had overfit to the dev set; the test set is harder than the dev set; the test set is not necessarily harder, but just different, from the dev set.'},\n",
       " {'Q': 'How large should the dev set be?',\n",
       "  'A': 'The dev set should be large enough to detect differences between algorithms that you are trying out; sizes from 1,000 to 10,000 examples are common.'},\n",
       " {'Q': 'How large should the test set be?',\n",
       "  'A': 'It should be large enough to give high confidence in the overall performance of your system.'},\n",
       " {'Q': 'What is a single-number evaluation metric?',\n",
       "  'A': 'An evaluation metric that returns a single number about the performance of a classifier, such as classification accuracy.'},\n",
       " {'Q': 'Why is a single-number evaluation metric useful?',\n",
       "  'A': 'It allows you to sort all your models according to their performance on this metric, and quickly decide what is working best.'},\n",
       " {'Q': 'What is the difference between optimizing and satisficing metrics?',\n",
       "  'A': \"An optimizing metric is one you want to maximize, while a satisficing metric is one that just has to be 'good enough'.\"},\n",
       " {'Q': 'Why are dev sets and metrics important for machine learning?',\n",
       "  'A': 'They speed up iterations by allowing you to quickly measure the performance of ideas.'},\n",
       " {'Q': 'When should you change dev/test sets and metrics?',\n",
       "  'A': 'If your initial dev/test set or metric missed the mark, or if the dev/test sets or metric are no longer pointing your team in the right direction.'},\n",
       " {'Q': 'How do you set up development and test sets?',\n",
       "  'A': 'Choose dev and test sets from a distribution that reflects what data you expect to get in the future and want to do well on; choose dev and test sets from the same distribution if possible; choose a single-number evaluation metric for your team to optimize; having dev/test sets and a single-number evaluation metric helps you quickly evaluate algorithms, and therefore iterate faster.'},\n",
       " {'Q': 'What is the recommended approach to building a machine learning system when starting a new project?',\n",
       "  'A': 'Build and train a basic system quickly, then iterate.'},\n",
       " {'Q': 'What is error analysis?',\n",
       "  'A': 'The process of looking at misclassified examples to understand the underlying causes of the errors.'},\n",
       " {'Q': 'How do you evaluate multiple ideas in parallel during error analysis?',\n",
       "  'A': 'Create a spreadsheet and fill it out while looking through ~100 misclassified dev set images, noting error categories and comments.'},\n",
       " {'Q': 'When should you correct mislabeled examples in your dev set?',\n",
       "  'A': 'If the fraction of the dev set that is mislabeled impedes your ability to make judgments about algorithm performance.'},\n",
       " {'Q': 'What should you do if you have a large dev set for error analysis?',\n",
       "  'A': \"Split it into two subsets: an Eyeball dev set (which you look at) and a Blackbox dev set (which you don't look at).\"},\n",
       " {'Q': 'How big should the Eyeball and Blackbox dev sets be?',\n",
       "  'A': 'The Eyeball dev set should be large enough to give you a sense of your algorithm’s major error categories; a Blackbox dev set of 1,000-10,000 examples is sufficient for many applications.'},\n",
       " {'Q': 'What are the two major sources of error in machine learning?',\n",
       "  'A': 'Bias and variance.'},\n",
       " {'Q': 'How do you estimate bias and variance?',\n",
       "  'A': \"Bias is estimated by the algorithm's error rate on the training set, and variance is estimated by how much worse the algorithm does on the dev/test set than the training set.\"},\n",
       " {'Q': 'What is avoidable bias?',\n",
       "  'A': 'The difference between the training error and the optimal error rate.'},\n",
       " {'Q': 'What is the simplest formula for addressing bias and variance issues?',\n",
       "  'A': 'If you have high avoidable bias, increase the size of your model. If you have high variance, add data to your training set.'},\n",
       " {'Q': 'What are some techniques for reducing avoidable bias?',\n",
       "  'A': 'Increase the model size, modify input features based on insights from error analysis, reduce or eliminate regularization, and modify model architecture.'},\n",
       " {'Q': 'What are some techniques for reducing variance?',\n",
       "  'A': 'Add more training data, add regularization, add early stopping, feature selection to decrease number/type of input features, and decrease the model size.'},\n",
       " {'Q': 'What are learning curves?',\n",
       "  'A': 'A learning curve plots your dev set error against the number of training examples.'},\n",
       " {'Q': 'What does a learning curve with high bias look like?',\n",
       "  'A': 'At the largest training set size, there is a large gap between the training error and the desired performance, and the gap between the training and dev curves is small.'},\n",
       " {'Q': 'Why is it helpful to compare to human-level performance in machine learning?',\n",
       "  'A': \"For ease of obtaining data from human labelers, because error analysis can draw on human intuition, and to use human-level performance to estimate the optimal error rate and set a 'desired error rate'.\"},\n",
       " {'Q': 'How should you define human-level performance?',\n",
       "  'A': 'Use the error rate achieved by a team of experts who discuss and debate each case.'},\n",
       " {'Q': 'When should you train and test on different distributions?',\n",
       "  'A': 'When you have a large training set from a different distribution that can provide a lot of information, but you want your dev and test sets to reflect the distribution you want to do well on.'}]"
      ]
     },
     "execution_count": 74,
     "metadata": {},
     "output_type": "execute_result"
    }
   ],
   "source": [
    "df[\"Q_A\"][0]"
   ]
  },
  {
   "cell_type": "code",
   "execution_count": 72,
   "metadata": {},
   "outputs": [
    {
     "data": {
      "text/plain": [
       "Series([], Name: Q_A, dtype: object)"
      ]
     },
     "execution_count": 72,
     "metadata": {},
     "output_type": "execute_result"
    }
   ],
   "source": [
    "df[\"Q_A\"][df[\"Q_A\"] == None]"
   ]
  },
  {
   "cell_type": "code",
   "execution_count": 73,
   "metadata": {},
   "outputs": [
    {
     "data": {
      "text/plain": [
       "2592"
      ]
     },
     "execution_count": 73,
     "metadata": {},
     "output_type": "execute_result"
    }
   ],
   "source": [
    "sum(df[\"Q_A\"].apply(lambda x: len(x)))"
   ]
  },
  {
   "cell_type": "code",
   "execution_count": null,
   "metadata": {},
   "outputs": [],
   "source": [
    "reponse_failed_set = df[\"Q_A\"][df[\"Q_A\"] == \"API Call Failed or No Content\"].keys()\n",
    "\n",
    "for i in reponse_failed_set:\n",
    "    text = df[\"text\"][i]\n",
    "\n",
    "    # Combined the prompt and data into a single user message (this is correct now)\n",
    "    contents_for_generation = [\n",
    "        {\n",
    "            \"role\": \"user\",\n",
    "            \"parts\": [\n",
    "                {\"text\": prompt + \" \\n\" + \"Here is the data: \" + text}\n",
    "            ]\n",
    "        }\n",
    "    ]\n",
    "\n",
    "    response_text = gemini_request_with_retry(contents=contents_for_generation, model_name=\"gemini-1.5-flash\")\n",
    "    if response_text is not None:\n",
    "        df.at[i, \"Q_A\"] = response_text\n",
    "    else:\n",
    "        print(\"Failed at index\", i)"
   ]
  },
  {
   "cell_type": "code",
   "execution_count": 75,
   "metadata": {},
   "outputs": [],
   "source": [
    "import pandas as pd\n",
    "df2 = pd.DataFrame(columns=[\"question\", \"answer\"])\n",
    "for j in range(len(df[\"Q_A\"])):\n",
    "    sample = df[\"Q_A\"][j]\n",
    "    for i in range(len(sample)):\n",
    "        try:\n",
    "            df2 = pd.concat([df2, pd.DataFrame([{\"question\": sample[i][\"Q\"], \"answer\": sample[i][\"A\"]}])]\n",
    "                    , ignore_index=True)\n",
    "        except TypeError:\n",
    "            print(f\"error at {j} and {i}\")\n",
    "df2.to_csv(\"../Dataset/dataset_QA.csv\", index=False)"
   ]
  },
  {
   "cell_type": "code",
   "execution_count": null,
   "metadata": {},
   "outputs": [],
   "source": []
  }
 ],
 "metadata": {
  "kernelspec": {
   "display_name": "gemini_env",
   "language": "python",
   "name": "python3"
  },
  "language_info": {
   "codemirror_mode": {
    "name": "ipython",
    "version": 3
   },
   "file_extension": ".py",
   "mimetype": "text/x-python",
   "name": "python",
   "nbconvert_exporter": "python",
   "pygments_lexer": "ipython3",
   "version": "3.12.11"
  }
 },
 "nbformat": 4,
 "nbformat_minor": 2
}

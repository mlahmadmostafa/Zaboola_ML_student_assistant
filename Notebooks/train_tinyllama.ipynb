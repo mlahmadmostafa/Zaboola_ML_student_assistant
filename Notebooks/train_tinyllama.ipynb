{
 "cells": [
  {
   "cell_type": "code",
   "execution_count": 1,
   "metadata": {},
   "outputs": [
    {
     "name": "stdout",
     "output_type": "stream",
     "text": [
      "True\n"
     ]
    }
   ],
   "source": [
    "# Check if GPU is used\n",
    "import torch\n",
    "print(torch.cuda.is_available())"
   ]
  },
  {
   "cell_type": "code",
   "execution_count": 2,
   "metadata": {
    "_cell_guid": "b1076dfc-b9ad-4769-8c92-a6c4dae69d19",
    "_uuid": "8f2839f25d086af736a60e9eeb907d3b93b6e0e5",
    "execution": {
     "iopub.execute_input": "2025-06-07T08:29:04.818249Z",
     "iopub.status.busy": "2025-06-07T08:29:04.817927Z",
     "iopub.status.idle": "2025-06-07T08:29:06.501247Z",
     "shell.execute_reply": "2025-06-07T08:29:06.500459Z",
     "shell.execute_reply.started": "2025-06-07T08:29:04.818226Z"
    },
    "trusted": true
   },
   "outputs": [],
   "source": [
    "import pandas as pd\n",
    "df = pd.read_csv(\"../Dataset/dataset_QA.csv\")"
   ]
  },
  {
   "cell_type": "code",
   "execution_count": 3,
   "metadata": {
    "execution": {
     "iopub.execute_input": "2025-06-07T08:30:44.119862Z",
     "iopub.status.busy": "2025-06-07T08:30:44.119554Z",
     "iopub.status.idle": "2025-06-07T08:30:44.143825Z",
     "shell.execute_reply": "2025-06-07T08:30:44.143330Z",
     "shell.execute_reply.started": "2025-06-07T08:30:44.119835Z"
    },
    "trusted": true
   },
   "outputs": [
    {
     "data": {
      "text/html": [
       "<div>\n",
       "<style scoped>\n",
       "    .dataframe tbody tr th:only-of-type {\n",
       "        vertical-align: middle;\n",
       "    }\n",
       "\n",
       "    .dataframe tbody tr th {\n",
       "        vertical-align: top;\n",
       "    }\n",
       "\n",
       "    .dataframe thead th {\n",
       "        text-align: right;\n",
       "    }\n",
       "</style>\n",
       "<table border=\"1\" class=\"dataframe\">\n",
       "  <thead>\n",
       "    <tr style=\"text-align: right;\">\n",
       "      <th></th>\n",
       "      <th>question</th>\n",
       "      <th>answer</th>\n",
       "    </tr>\n",
       "  </thead>\n",
       "  <tbody>\n",
       "    <tr>\n",
       "      <th>0</th>\n",
       "      <td>What is the goal of this machine learning tech...</td>\n",
       "      <td>To help you or your team work on a machine lea...</td>\n",
       "    </tr>\n",
       "    <tr>\n",
       "      <th>1</th>\n",
       "      <td>What does the guide assume about the reader's ...</td>\n",
       "      <td>It assumes the reader has taken a machine lear...</td>\n",
       "    </tr>\n",
       "  </tbody>\n",
       "</table>\n",
       "</div>"
      ],
      "text/plain": [
       "                                            question  \\\n",
       "0  What is the goal of this machine learning tech...   \n",
       "1  What does the guide assume about the reader's ...   \n",
       "\n",
       "                                              answer  \n",
       "0  To help you or your team work on a machine lea...  \n",
       "1  It assumes the reader has taken a machine lear...  "
      ]
     },
     "execution_count": 3,
     "metadata": {},
     "output_type": "execute_result"
    }
   ],
   "source": [
    "df.head(2)"
   ]
  },
  {
   "cell_type": "code",
   "execution_count": 4,
   "metadata": {
    "execution": {
     "iopub.execute_input": "2025-06-07T08:31:13.155527Z",
     "iopub.status.busy": "2025-06-07T08:31:13.155068Z",
     "iopub.status.idle": "2025-06-07T08:31:17.574851Z",
     "shell.execute_reply": "2025-06-07T08:31:17.574305Z",
     "shell.execute_reply.started": "2025-06-07T08:31:13.155508Z"
    },
    "trusted": true
   },
   "outputs": [
    {
     "name": "stderr",
     "output_type": "stream",
     "text": [
      "d:\\program_files\\anaconda3\\envs\\torch_gpu\\Lib\\site-packages\\sklearn\\utils\\_param_validation.py:11: UserWarning: A NumPy version >=1.22.4 and <2.3.0 is required for this version of SciPy (detected version 2.3.0)\n",
      "  from scipy.sparse import csr_matrix, issparse\n"
     ]
    },
    {
     "name": "stdout",
     "output_type": "stream",
     "text": [
      "WARNING:tensorflow:From d:\\program_files\\anaconda3\\envs\\torch_gpu\\Lib\\site-packages\\tf_keras\\src\\losses.py:2976: The name tf.losses.sparse_softmax_cross_entropy is deprecated. Please use tf.compat.v1.losses.sparse_softmax_cross_entropy instead.\n",
      "\n"
     ]
    },
    {
     "data": {
      "application/vnd.jupyter.widget-view+json": {
       "model_id": "2ec7b5513b1c42a4b792ce82cb745943",
       "version_major": 2,
       "version_minor": 0
      },
      "text/plain": [
       "Map:   0%|          | 0/2592 [00:00<?, ? examples/s]"
      ]
     },
     "metadata": {},
     "output_type": "display_data"
    },
    {
     "data": {
      "application/vnd.jupyter.widget-view+json": {
       "model_id": "ce4cf83c2d584796bf42864362d0aeaf",
       "version_major": 2,
       "version_minor": 0
      },
      "text/plain": [
       "Map:   0%|          | 0/2592 [00:00<?, ? examples/s]"
      ]
     },
     "metadata": {},
     "output_type": "display_data"
    },
    {
     "data": {
      "application/vnd.jupyter.widget-view+json": {
       "model_id": "f5381881c10f41808d75e05fa06ba2d0",
       "version_major": 2,
       "version_minor": 0
      },
      "text/plain": [
       "Map:   0%|          | 0/2592 [00:00<?, ? examples/s]"
      ]
     },
     "metadata": {},
     "output_type": "display_data"
    }
   ],
   "source": [
    "from transformers import AutoTokenizer, DataCollatorForLanguageModeling, Trainer, TrainingArguments\n",
    "from datasets import Dataset\n",
    "import pandas as pd\n",
    "\n",
    "# Load tokenizer and data collator\n",
    "tokenizer = AutoTokenizer.from_pretrained(\"TinyLlama/TinyLlama-1.1B-Chat-v1.0\")\n",
    "if tokenizer.pad_token is None:\n",
    "    tokenizer.pad_token = tokenizer.eos_token\n",
    "\n",
    "data_collator = DataCollatorForLanguageModeling(\n",
    "    tokenizer=tokenizer, \n",
    "    mlm=False,\n",
    "    pad_to_multiple_of=8,  # Helps with efficiency\n",
    "    return_tensors=\"pt\"\n",
    ")\n",
    "# Convert to Dataset\n",
    "dataset = Dataset.from_pandas(df[[\"question\", \"answer\"]])\n",
    "\n",
    "# Format question-answer into a text prompt\n",
    "def format_qa(example):\n",
    "    prompt = f\"Q: {example['question']}\\nA: {example['answer']}\"\n",
    "    return {\"text\": prompt}\n",
    "\n",
    "# Tokenize formatted prompt\n",
    "def tokenize(example):\n",
    "    return tokenizer(\n",
    "        example[\"text\"],\n",
    "        truncation=True,\n",
    "        padding=\"max_length\",\n",
    "        max_length=512\n",
    "    )\n",
    "\n",
    "# Set labels = input_ids for causal LM\n",
    "def set_labels(example):\n",
    "    example[\"labels\"] = example[\"input_ids\"]\n",
    "    return example\n",
    "\n",
    "# Apply formatting, tokenization, and labels\n",
    "formatted_dataset = dataset.map(format_qa)\n",
    "tokenized_dataset = formatted_dataset.map(tokenize, batched=True)\n",
    "tokenized_dataset = tokenized_dataset.map(set_labels)\n",
    "tokenized_dataset = tokenized_dataset.remove_columns([\"question\", \"answer\", \"text\"])\n",
    "tokenized_dataset.set_format(type=\"torch\", columns=[\"input_ids\", \"attention_mask\", \"labels\"])\n",
    "\n",
    "\n",
    "# Train/test split\n",
    "split_dataset = tokenized_dataset.train_test_split(test_size=0.1, seed=42)\n",
    "train_dataset = split_dataset[\"train\"]\n",
    "test_dataset = split_dataset[\"test\"]\n"
   ]
  },
  {
   "cell_type": "code",
   "execution_count": 5,
   "metadata": {
    "execution": {
     "iopub.execute_input": "2025-06-07T08:31:17.575716Z",
     "iopub.status.busy": "2025-06-07T08:31:17.575533Z",
     "iopub.status.idle": "2025-06-07T08:31:49.294215Z",
     "shell.execute_reply": "2025-06-07T08:31:49.293348Z",
     "shell.execute_reply.started": "2025-06-07T08:31:17.575701Z"
    },
    "trusted": true
   },
   "outputs": [
    {
     "data": {
      "text/plain": [
       "Ellipsis"
      ]
     },
     "execution_count": 5,
     "metadata": {},
     "output_type": "execute_result"
    }
   ],
   "source": [
    "from transformers import AutoModelForCausalLM\n",
    "from transformers import BitsAndBytesConfig\n",
    "\n",
    "from peft import LoraConfig, get_peft_model\n",
    "# Load model directly\n",
    "bnb_config = BitsAndBytesConfig(\n",
    "    load_in_4bit=True,\n",
    "    bnb_4bit_use_double_quant=True,\n",
    "    bnb_4bit_compute_dtype=torch.float16,\n",
    "    bnb_4bit_quant_type=\"nf4\"\n",
    ")\n",
    "\n",
    "model = AutoModelForCausalLM.from_pretrained(\"TinyLlama/TinyLlama-1.1B-Chat-v1.0\",\n",
    "                                             quantization_config=bnb_config,\n",
    "                                             device_map=\"auto\",\n",
    "                                             trust_remote_code=True)\n",
    "\n",
    "# Configure LoRA\n",
    "lora_config = LoraConfig(\n",
    "    r=256,\n",
    "    lora_alpha=32,\n",
    "    target_modules = [\"self_attn.q_proj\", \"self_attn.k_proj\", \"self_attn.v_proj\", \"self_attn.o_proj\"],\n",
    "    lora_dropout=0.1,\n",
    "    bias=\"none\",\n",
    "    task_type=\"CAUSAL_LM\"\n",
    ")\n",
    "model = get_peft_model(model, lora_config)\n",
    "model.gradient_checkpointing_disable()\n",
    "model.train() \n",
    "..."
   ]
  },
  {
   "cell_type": "code",
   "execution_count": 6,
   "metadata": {},
   "outputs": [
    {
     "name": "stdout",
     "output_type": "stream",
     "text": [
      "trainable params: 72,089,600 || all params: 1,172,137,984 || trainable%: 6.1503\n"
     ]
    }
   ],
   "source": [
    "model.print_trainable_parameters()"
   ]
  },
  {
   "cell_type": "code",
   "execution_count": 8,
   "metadata": {
    "execution": {
     "iopub.execute_input": "2025-06-07T08:31:49.295438Z",
     "iopub.status.busy": "2025-06-07T08:31:49.295154Z",
     "iopub.status.idle": "2025-06-07T08:31:49.510534Z",
     "shell.execute_reply": "2025-06-07T08:31:49.509764Z",
     "shell.execute_reply.started": "2025-06-07T08:31:49.295415Z"
    },
    "trusted": true
   },
   "outputs": [],
   "source": [
    "import os\n",
    "os.environ[\"CUDA_LAUNCH_BLOCKING\"] = \"1\"\n",
    "#model.save_pretrained(\"../Models/Base_Model_TinyLLama-1.1B-Chat-v1.0\")"
   ]
  },
  {
   "cell_type": "code",
   "execution_count": 10,
   "metadata": {
    "execution": {
     "iopub.execute_input": "2025-06-07T08:33:25.986704Z",
     "iopub.status.busy": "2025-06-07T08:33:25.986135Z"
    },
    "trusted": true
   },
   "outputs": [
    {
     "name": "stderr",
     "output_type": "stream",
     "text": [
      "C:\\Users\\ahmad\\AppData\\Local\\Temp\\ipykernel_27908\\220110536.py:25: FutureWarning: `tokenizer` is deprecated and will be removed in version 5.0.0 for `Trainer.__init__`. Use `processing_class` instead.\n",
      "  trainer = Trainer(\n"
     ]
    },
    {
     "data": {
      "text/html": [
       "\n",
       "    <div>\n",
       "      \n",
       "      <progress value='6996' max='6996' style='width:300px; height:20px; vertical-align: middle;'></progress>\n",
       "      [6996/6996 16:38:23, Epoch 3/3]\n",
       "    </div>\n",
       "    <table border=\"1\" class=\"dataframe\">\n",
       "  <thead>\n",
       " <tr style=\"text-align: left;\">\n",
       "      <th>Step</th>\n",
       "      <th>Training Loss</th>\n",
       "      <th>Validation Loss</th>\n",
       "    </tr>\n",
       "  </thead>\n",
       "  <tbody>\n",
       "    <tr>\n",
       "      <td>1000</td>\n",
       "      <td>1.884200</td>\n",
       "      <td>1.924438</td>\n",
       "    </tr>\n",
       "    <tr>\n",
       "      <td>2000</td>\n",
       "      <td>1.825300</td>\n",
       "      <td>1.884871</td>\n",
       "    </tr>\n",
       "    <tr>\n",
       "      <td>3000</td>\n",
       "      <td>1.708100</td>\n",
       "      <td>1.865707</td>\n",
       "    </tr>\n",
       "    <tr>\n",
       "      <td>4000</td>\n",
       "      <td>1.806000</td>\n",
       "      <td>1.845530</td>\n",
       "    </tr>\n",
       "    <tr>\n",
       "      <td>5000</td>\n",
       "      <td>1.642500</td>\n",
       "      <td>1.841192</td>\n",
       "    </tr>\n",
       "    <tr>\n",
       "      <td>6000</td>\n",
       "      <td>1.522000</td>\n",
       "      <td>1.836893</td>\n",
       "    </tr>\n",
       "  </tbody>\n",
       "</table><p>"
      ],
      "text/plain": [
       "<IPython.core.display.HTML object>"
      ]
     },
     "metadata": {},
     "output_type": "display_data"
    },
    {
     "data": {
      "text/plain": [
       "TrainOutput(global_step=6996, training_loss=1.7227391951284523, metrics={'train_runtime': 59911.2765, 'train_samples_per_second': 0.117, 'train_steps_per_second': 0.117, 'total_flos': 2.378277113875661e+16, 'train_loss': 1.7227391951284523, 'epoch': 3.0})"
      ]
     },
     "execution_count": 10,
     "metadata": {},
     "output_type": "execute_result"
    }
   ],
   "source": [
    "from transformers import TrainingArguments\n",
    "from transformers import Trainer\n",
    "import torch\n",
    "torch.cuda.empty_cache()\n",
    "training_args = TrainingArguments(\n",
    "    output_dir=\"checkpoints\",\n",
    "    num_train_epochs=3,\n",
    "    per_device_train_batch_size=1,\n",
    "    per_device_eval_batch_size=1,\n",
    "    gradient_accumulation_steps=1,\n",
    "    eval_steps=1000,\n",
    "    save_steps=1000,\n",
    "    logging_steps=50,\n",
    "    fp16=True,\n",
    "    save_total_limit=1,\n",
    "    eval_strategy=\"steps\",\n",
    "    save_strategy=\"steps\",\n",
    "    load_best_model_at_end=True,\n",
    "    metric_for_best_model=\"eval_loss\",\n",
    "    dataloader_pin_memory=False,\n",
    "    remove_unused_columns=False,\n",
    "    label_names=[\"labels\"]\n",
    ")\n",
    "\n",
    "trainer = Trainer(\n",
    "    model=model,\n",
    "    args=training_args,\n",
    "    train_dataset=train_dataset,\n",
    "    eval_dataset=test_dataset,\n",
    "    tokenizer=tokenizer,\n",
    "    compute_metrics=None,\n",
    "    data_collator = data_collator\n",
    ")\n",
    "\n",
    "trainer.train()"
   ]
  },
  {
   "cell_type": "code",
   "execution_count": 13,
   "metadata": {
    "execution": {
     "iopub.execute_input": "2025-06-07T08:30:44.145832Z",
     "iopub.status.busy": "2025-06-07T08:30:44.145440Z",
     "iopub.status.idle": "2025-06-07T08:31:13.154544Z",
     "shell.execute_reply": "2025-06-07T08:31:13.153983Z",
     "shell.execute_reply.started": "2025-06-07T08:30:44.145816Z"
    },
    "trusted": true
   },
   "outputs": [],
   "source": [
    "import evaluate\n",
    "from transformers import TrainerCallback\n",
    "import pandas as pd\n",
    "\n",
    "accuracy = evaluate.load(\"accuracy\")\n",
    "f1 = evaluate.load(\"f1\")\n",
    "bleu = evaluate.load(\"bleu\")\n",
    "rouge = evaluate.load(\"rouge\")\n",
    "bertscore = evaluate.load(\"bertscore\")\n",
    "\n",
    "def compute_metrics(eval_pred):\n",
    "    predictions, labels = eval_pred\n",
    "    preds = tokenizer.batch_decode(predictions, skip_special_tokens=True)\n",
    "    refs = tokenizer.batch_decode(labels, skip_special_tokens=True)\n",
    "\n",
    "    # basic string cleaning\n",
    "    preds = [p.strip() for p in preds]\n",
    "    refs = [r.strip() for r in refs]\n",
    "\n",
    "    results = {}\n",
    "    results.update(accuracy.compute(predictions=preds, references=refs))\n",
    "    results.update(f1.compute(predictions=preds, references=refs, average=\"macro\"))\n",
    "    results.update(bleu.compute(predictions=[[p.split()] for p in preds], references=[[r.split()] for r in refs]))\n",
    "    results.update(rouge.compute(predictions=preds, references=refs, use_stemmer=True))\n",
    "    results.update(bertscore.compute(predictions=preds, references=refs, lang=\"en\"))\n",
    "\n",
    "    return {\n",
    "        \"accuracy\": results[\"accuracy\"],\n",
    "        \"f1\": results[\"f1\"],\n",
    "        \"bleu\": results[\"bleu\"],\n",
    "        \"rouge1\": results[\"rouge1\"],\n",
    "        \"rougeL\": results[\"rougeL\"],\n",
    "        \"bertscore_f1\": sum(results[\"bertscore_f1\"]) / len(results[\"bertscore_f1\"])\n",
    "    }\n",
    "\n",
    "class CSVLogger(TrainerCallback):\n",
    "    def __init__(self, path=\"metrics_log.csv\"):\n",
    "        self.path = path\n",
    "        self.logs = []\n",
    "\n",
    "    def on_evaluate(self, args, state, control, metrics=None, **kwargs):\n",
    "        if metrics:\n",
    "            metrics[\"epoch\"] = state.epoch\n",
    "            self.logs.append(metrics)\n",
    "            pd.DataFrame(self.logs).to_csv(self.path, index=False)\n"
   ]
  },
  {
   "cell_type": "code",
   "execution_count": 15,
   "metadata": {},
   "outputs": [],
   "source": [
    "torch.cuda.empty_cache()"
   ]
  }
 ],
 "metadata": {
  "kaggle": {
   "accelerator": "nvidiaTeslaT4",
   "dataSources": [
    {
     "datasetId": 7607091,
     "sourceId": 12084219,
     "sourceType": "datasetVersion"
    }
   ],
   "dockerImageVersionId": 31040,
   "isGpuEnabled": true,
   "isInternetEnabled": true,
   "language": "python",
   "sourceType": "notebook"
  },
  "kernelspec": {
   "display_name": "torch_gpu",
   "language": "python",
   "name": "python3"
  },
  "language_info": {
   "codemirror_mode": {
    "name": "ipython",
    "version": 3
   },
   "file_extension": ".py",
   "mimetype": "text/x-python",
   "name": "python",
   "nbconvert_exporter": "python",
   "pygments_lexer": "ipython3",
   "version": "3.11.10"
  }
 },
 "nbformat": 4,
 "nbformat_minor": 4
}
